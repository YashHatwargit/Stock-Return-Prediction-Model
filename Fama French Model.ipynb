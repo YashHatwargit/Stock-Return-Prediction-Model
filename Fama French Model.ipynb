{
  "cells": [
    {
      "cell_type": "code",
      "execution_count": null,
      "id": "6d9b6a4e",
      "metadata": {
        "id": "6d9b6a4e"
      },
      "outputs": [],
      "source": [
        ""
      ]
    },
    {
      "cell_type": "code",
      "execution_count": null,
      "id": "46d4eb97",
      "metadata": {
        "id": "46d4eb97",
        "outputId": "83ba490a-b5d7-444a-99de-7d6103c979fd"
      },
      "outputs": [
        {
          "name": "stdout",
          "output_type": "stream",
          "text": [
            "Requirement already satisfied: pandas_datareader in c:\\users\\digvi\\appdata\\local\\programs\\python\\python310\\lib\\site-packages (0.10.0)\n",
            "Requirement already satisfied: requests>=2.19.0 in c:\\users\\digvi\\appdata\\local\\programs\\python\\python310\\lib\\site-packages (from pandas_datareader) (2.28.1)\n",
            "Requirement already satisfied: lxml in c:\\users\\digvi\\appdata\\local\\programs\\python\\python310\\lib\\site-packages (from pandas_datareader) (4.9.1)\n",
            "Requirement already satisfied: pandas>=0.23 in c:\\users\\digvi\\appdata\\local\\programs\\python\\python310\\lib\\site-packages (from pandas_datareader) (1.4.2)\n",
            "Requirement already satisfied: python-dateutil>=2.8.1 in c:\\users\\digvi\\appdata\\local\\programs\\python\\python310\\lib\\site-packages (from pandas>=0.23->pandas_datareader) (2.8.2)\n",
            "Requirement already satisfied: numpy>=1.21.0 in c:\\users\\digvi\\appdata\\local\\programs\\python\\python310\\lib\\site-packages (from pandas>=0.23->pandas_datareader) (1.22.4)\n",
            "Requirement already satisfied: pytz>=2020.1 in c:\\users\\digvi\\appdata\\local\\programs\\python\\python310\\lib\\site-packages (from pandas>=0.23->pandas_datareader) (2022.1)\n",
            "Requirement already satisfied: urllib3<1.27,>=1.21.1 in c:\\users\\digvi\\appdata\\local\\programs\\python\\python310\\lib\\site-packages (from requests>=2.19.0->pandas_datareader) (1.26.10)\n",
            "Requirement already satisfied: charset-normalizer<3,>=2 in c:\\users\\digvi\\appdata\\local\\programs\\python\\python310\\lib\\site-packages (from requests>=2.19.0->pandas_datareader) (2.1.0)\n",
            "Requirement already satisfied: certifi>=2017.4.17 in c:\\users\\digvi\\appdata\\local\\programs\\python\\python310\\lib\\site-packages (from requests>=2.19.0->pandas_datareader) (2022.6.15)\n",
            "Requirement already satisfied: idna<4,>=2.5 in c:\\users\\digvi\\appdata\\local\\programs\\python\\python310\\lib\\site-packages (from requests>=2.19.0->pandas_datareader) (3.3)\n",
            "Requirement already satisfied: six>=1.5 in c:\\users\\digvi\\appdata\\local\\programs\\python\\python310\\lib\\site-packages (from python-dateutil>=2.8.1->pandas>=0.23->pandas_datareader) (1.16.0)\n",
            "Note: you may need to restart the kernel to use updated packages.\n"
          ]
        }
      ],
      "source": [
        "pip install pandas_datareader"
      ]
    },
    {
      "cell_type": "code",
      "execution_count": null,
      "id": "ecb29b2a",
      "metadata": {
        "id": "ecb29b2a"
      },
      "outputs": [],
      "source": [
        "from scipy import stats\n",
        "import pandas as pd\n",
        "import pandas_datareader as web \n",
        "import datetime\n",
        "import matplotlib.pyplot as plt\n",
        "%matplotlib inline"
      ]
    },
    {
      "cell_type": "code",
      "execution_count": null,
      "id": "f8b5904c",
      "metadata": {
        "id": "f8b5904c"
      },
      "outputs": [],
      "source": [
        "start=datetime.datetime(2021,1,1)\n",
        "end=datetime.datetime(2022,1,1)"
      ]
    },
    {
      "cell_type": "code",
      "execution_count": null,
      "id": "ee908b05",
      "metadata": {
        "id": "ee908b05",
        "outputId": "af98e920-4e1d-4fb8-eb63-d91ad019f949"
      },
      "outputs": [
        {
          "data": {
            "text/html": [
              "<div>\n",
              "<style scoped>\n",
              "    .dataframe tbody tr th:only-of-type {\n",
              "        vertical-align: middle;\n",
              "    }\n",
              "\n",
              "    .dataframe tbody tr th {\n",
              "        vertical-align: top;\n",
              "    }\n",
              "\n",
              "    .dataframe thead th {\n",
              "        text-align: right;\n",
              "    }\n",
              "</style>\n",
              "<table border=\"1\" class=\"dataframe\">\n",
              "  <thead>\n",
              "    <tr style=\"text-align: right;\">\n",
              "      <th></th>\n",
              "      <th>High</th>\n",
              "      <th>Low</th>\n",
              "      <th>Open</th>\n",
              "      <th>Close</th>\n",
              "      <th>Volume</th>\n",
              "      <th>Adj Close</th>\n",
              "    </tr>\n",
              "    <tr>\n",
              "      <th>Date</th>\n",
              "      <th></th>\n",
              "      <th></th>\n",
              "      <th></th>\n",
              "      <th></th>\n",
              "      <th></th>\n",
              "      <th></th>\n",
              "    </tr>\n",
              "  </thead>\n",
              "  <tbody>\n",
              "    <tr>\n",
              "      <th>2021-01-01</th>\n",
              "      <td>14049.849609</td>\n",
              "      <td>13991.349609</td>\n",
              "      <td>13996.099609</td>\n",
              "      <td>14018.500000</td>\n",
              "      <td>358100</td>\n",
              "      <td>14018.500000</td>\n",
              "    </tr>\n",
              "    <tr>\n",
              "      <th>2021-01-04</th>\n",
              "      <td>14147.950195</td>\n",
              "      <td>13953.750000</td>\n",
              "      <td>14104.349609</td>\n",
              "      <td>14132.900391</td>\n",
              "      <td>495000</td>\n",
              "      <td>14132.900391</td>\n",
              "    </tr>\n",
              "    <tr>\n",
              "      <th>2021-01-05</th>\n",
              "      <td>14215.599609</td>\n",
              "      <td>14048.150391</td>\n",
              "      <td>14075.150391</td>\n",
              "      <td>14199.500000</td>\n",
              "      <td>492500</td>\n",
              "      <td>14199.500000</td>\n",
              "    </tr>\n",
              "    <tr>\n",
              "      <th>2021-01-06</th>\n",
              "      <td>14244.150391</td>\n",
              "      <td>14039.900391</td>\n",
              "      <td>14240.950195</td>\n",
              "      <td>14146.250000</td>\n",
              "      <td>632300</td>\n",
              "      <td>14146.250000</td>\n",
              "    </tr>\n",
              "    <tr>\n",
              "      <th>2021-01-07</th>\n",
              "      <td>14256.250000</td>\n",
              "      <td>14123.099609</td>\n",
              "      <td>14253.750000</td>\n",
              "      <td>14137.349609</td>\n",
              "      <td>559200</td>\n",
              "      <td>14137.349609</td>\n",
              "    </tr>\n",
              "  </tbody>\n",
              "</table>\n",
              "</div>"
            ],
            "text/plain": [
              "                    High           Low          Open         Close  Volume  \\\n",
              "Date                                                                         \n",
              "2021-01-01  14049.849609  13991.349609  13996.099609  14018.500000  358100   \n",
              "2021-01-04  14147.950195  13953.750000  14104.349609  14132.900391  495000   \n",
              "2021-01-05  14215.599609  14048.150391  14075.150391  14199.500000  492500   \n",
              "2021-01-06  14244.150391  14039.900391  14240.950195  14146.250000  632300   \n",
              "2021-01-07  14256.250000  14123.099609  14253.750000  14137.349609  559200   \n",
              "\n",
              "               Adj Close  \n",
              "Date                      \n",
              "2021-01-01  14018.500000  \n",
              "2021-01-04  14132.900391  \n",
              "2021-01-05  14199.500000  \n",
              "2021-01-06  14146.250000  \n",
              "2021-01-07  14137.349609  "
            ]
          },
          "execution_count": 4,
          "metadata": {},
          "output_type": "execute_result"
        }
      ],
      "source": [
        "df_nifty=web.DataReader(\"^NSEI\",\"yahoo\",start,end)\n",
        "df_nifty.head()"
      ]
    },
    {
      "cell_type": "code",
      "execution_count": null,
      "id": "0601278b",
      "metadata": {
        "id": "0601278b",
        "outputId": "ad73c7b6-8b49-46c4-a184-00365ba0f315"
      },
      "outputs": [
        {
          "data": {
            "text/html": [
              "<div>\n",
              "<style scoped>\n",
              "    .dataframe tbody tr th:only-of-type {\n",
              "        vertical-align: middle;\n",
              "    }\n",
              "\n",
              "    .dataframe tbody tr th {\n",
              "        vertical-align: top;\n",
              "    }\n",
              "\n",
              "    .dataframe thead th {\n",
              "        text-align: right;\n",
              "    }\n",
              "</style>\n",
              "<table border=\"1\" class=\"dataframe\">\n",
              "  <thead>\n",
              "    <tr style=\"text-align: right;\">\n",
              "      <th></th>\n",
              "      <th>High</th>\n",
              "      <th>Low</th>\n",
              "      <th>Open</th>\n",
              "      <th>Close</th>\n",
              "      <th>Volume</th>\n",
              "      <th>Adj Close</th>\n",
              "    </tr>\n",
              "    <tr>\n",
              "      <th>Date</th>\n",
              "      <th></th>\n",
              "      <th></th>\n",
              "      <th></th>\n",
              "      <th></th>\n",
              "      <th></th>\n",
              "      <th></th>\n",
              "    </tr>\n",
              "  </thead>\n",
              "  <tbody>\n",
              "    <tr>\n",
              "      <th>2021-01-01</th>\n",
              "      <td>744.750000</td>\n",
              "      <td>723.000000</td>\n",
              "      <td>725.0</td>\n",
              "      <td>732.450012</td>\n",
              "      <td>9543128.0</td>\n",
              "      <td>716.961609</td>\n",
              "    </tr>\n",
              "    <tr>\n",
              "      <th>2021-01-04</th>\n",
              "      <td>751.000000</td>\n",
              "      <td>727.250000</td>\n",
              "      <td>735.0</td>\n",
              "      <td>749.099976</td>\n",
              "      <td>4547027.0</td>\n",
              "      <td>733.259521</td>\n",
              "    </tr>\n",
              "    <tr>\n",
              "      <th>2021-01-05</th>\n",
              "      <td>748.000000</td>\n",
              "      <td>730.000000</td>\n",
              "      <td>748.0</td>\n",
              "      <td>740.099976</td>\n",
              "      <td>3551554.0</td>\n",
              "      <td>724.449829</td>\n",
              "    </tr>\n",
              "    <tr>\n",
              "      <th>2021-01-06</th>\n",
              "      <td>746.450012</td>\n",
              "      <td>730.450012</td>\n",
              "      <td>741.0</td>\n",
              "      <td>736.099976</td>\n",
              "      <td>3601608.0</td>\n",
              "      <td>720.534424</td>\n",
              "    </tr>\n",
              "    <tr>\n",
              "      <th>2021-01-07</th>\n",
              "      <td>755.000000</td>\n",
              "      <td>740.099976</td>\n",
              "      <td>743.0</td>\n",
              "      <td>744.400024</td>\n",
              "      <td>4063641.0</td>\n",
              "      <td>728.658936</td>\n",
              "    </tr>\n",
              "  </tbody>\n",
              "</table>\n",
              "</div>"
            ],
            "text/plain": [
              "                  High         Low   Open       Close     Volume   Adj Close\n",
              "Date                                                                        \n",
              "2021-01-01  744.750000  723.000000  725.0  732.450012  9543128.0  716.961609\n",
              "2021-01-04  751.000000  727.250000  735.0  749.099976  4547027.0  733.259521\n",
              "2021-01-05  748.000000  730.000000  748.0  740.099976  3551554.0  724.449829\n",
              "2021-01-06  746.450012  730.450012  741.0  736.099976  3601608.0  720.534424\n",
              "2021-01-07  755.000000  740.099976  743.0  744.400024  4063641.0  728.658936"
            ]
          },
          "execution_count": 5,
          "metadata": {},
          "output_type": "execute_result"
        }
      ],
      "source": [
        "df_b=web.DataReader(\"M&M.NS\",\"yahoo\",start,end)\n",
        "df_b.head()"
      ]
    },
    {
      "cell_type": "code",
      "execution_count": null,
      "id": "50a0c7e3",
      "metadata": {
        "id": "50a0c7e3",
        "outputId": "08baf07c-e3f5-49ce-adf5-68eea5096a18"
      },
      "outputs": [
        {
          "data": {
            "text/plain": [
              "<matplotlib.legend.Legend at 0x1b2f92676a0>"
            ]
          },
          "execution_count": 6,
          "metadata": {},
          "output_type": "execute_result"
        },
        {
          "data": {
            "image/png": "[encoded data removed]",
            "text/plain": [
              "<Figure size 720x576 with 1 Axes>"
            ]
          },
          "metadata": {
            "needs_background": "light"
          },
          "output_type": "display_data"
        }
      ],
      "source": [
        "df_nifty['Close'].plot(label = 'Nifty', figsize=(10,8) )\n",
        "df_b['Close'].plot(label = 'MAHINDRA')\n",
        "plt.legend()"
      ]
    },
    {
      "cell_type": "code",
      "execution_count": null,
      "id": "7ff2bfdd",
      "metadata": {
        "id": "7ff2bfdd"
      },
      "outputs": [],
      "source": [
        "df_nifty['cum']=df_nifty[\"Close\"]/df_nifty[\"Close\"].iloc[0]\n",
        "df_b['cum']=df_b[\"Close\"]/df_b[\"Close\"].iloc[0]\n"
      ]
    },
    {
      "cell_type": "code",
      "execution_count": null,
      "id": "d66c0c01",
      "metadata": {
        "id": "d66c0c01",
        "outputId": "d839898e-4050-41c4-eaf8-e55343c2624e"
      },
      "outputs": [
        {
          "data": {
            "text/plain": [
              "<matplotlib.legend.Legend at 0x1b2f93b6d70>"
            ]
          },
          "execution_count": 8,
          "metadata": {},
          "output_type": "execute_result"
        },
        {
          "data": {
            "image/png": "[encoded data removed]",
            "text/plain": [
              "<Figure size 720x576 with 1 Axes>"
            ]
          },
          "metadata": {
            "needs_background": "light"
          },
          "output_type": "display_data"
        }
      ],
      "source": [
        "df_nifty['cum'].plot(label = 'Nifty', figsize=(10,8))\n",
        "df_b['cum'].plot(label = 'MAHINDRA')\n",
        "plt.legend()"
      ]
    },
    {
      "cell_type": "code",
      "execution_count": null,
      "id": "b7b1ed15",
      "metadata": {
        "id": "b7b1ed15"
      },
      "outputs": [],
      "source": [
        "df_nifty['daily_ret'] = df_nifty['Close'].pct_change(1)\n",
        "df_b['daily_ret'] = df_b['Close'].pct_change(1)"
      ]
    },
    {
      "cell_type": "code",
      "execution_count": null,
      "id": "c994a7b6",
      "metadata": {
        "id": "c994a7b6",
        "outputId": "7a12b001-2259-4a7f-ffe0-e1a8f74c328c"
      },
      "outputs": [
        {
          "data": {
            "text/plain": [
              "<matplotlib.collections.PathCollection at 0x1b2f94c8bb0>"
            ]
          },
          "execution_count": 10,
          "metadata": {},
          "output_type": "execute_result"
        },
        {
          "data": {
            "image/png": "[encoded data removed]",
            "text/plain": [
              "<Figure size 432x288 with 1 Axes>"
            ]
          },
          "metadata": {
            "needs_background": "light"
          },
          "output_type": "display_data"
        }
      ],
      "source": [
        "plt.scatter(df_b['daily_ret'],df_nifty['daily_ret'])"
      ]
    },
    {
      "cell_type": "code",
      "execution_count": null,
      "id": "f700e1d8",
      "metadata": {
        "id": "f700e1d8",
        "outputId": "b64ae053-c2cb-4b0c-d4ea-eca3780394a5"
      },
      "outputs": [
        {
          "data": {
            "text/plain": [
              "LinregressResult(slope=0.28689878757048115, intercept=0.0007025289508417101, rvalue=0.5740918909816692, pvalue=4.696884219027904e-23, stderr=0.026141906286282445, intercept_stderr=0.0005161479613729538)"
            ]
          },
          "execution_count": 11,
          "metadata": {},
          "output_type": "execute_result"
        }
      ],
      "source": [
        "LR = stats.linregress(df_b['daily_ret'].iloc[1:],df_nifty['daily_ret'].iloc[1:])\n",
        "LR"
      ]
    },
    {
      "cell_type": "code",
      "execution_count": null,
      "id": "0c871c4e",
      "metadata": {
        "id": "0c871c4e"
      },
      "outputs": [],
      "source": [
        "beta,alpha,r_val,p_val,std_err = LR"
      ]
    },
    {
      "cell_type": "code",
      "execution_count": null,
      "id": "92cc08a0",
      "metadata": {
        "id": "92cc08a0",
        "outputId": "2b73ca98-e47a-4ab6-f1c0-25d85de917a6"
      },
      "outputs": [
        {
          "data": {
            "text/plain": [
              "0.28689878757048115"
            ]
          },
          "execution_count": 13,
          "metadata": {},
          "output_type": "execute_result"
        }
      ],
      "source": [
        "beta"
      ]
    },
    {
      "cell_type": "code",
      "execution_count": null,
      "id": "5116b65e",
      "metadata": {
        "id": "5116b65e",
        "outputId": "40fbb787-034a-4f14-8ae1-0d8241096b75"
      },
      "outputs": [
        {
          "data": {
            "text/plain": [
              "0.0007025289508417101"
            ]
          },
          "execution_count": 14,
          "metadata": {},
          "output_type": "execute_result"
        }
      ],
      "source": [
        "alpha"
      ]
    },
    {
      "cell_type": "code",
      "execution_count": null,
      "id": "17a157c3",
      "metadata": {
        "id": "17a157c3"
      },
      "outputs": [],
      "source": [
        "date=datetime.datetime(2022,7,19)"
      ]
    },
    {
      "cell_type": "code",
      "execution_count": null,
      "id": "aa37e95c",
      "metadata": {
        "id": "aa37e95c",
        "outputId": "61cefe27-f33e-448e-e019-af14de093cec"
      },
      "outputs": [
        {
          "data": {
            "text/plain": [
              "0.2379392075650034"
            ]
          },
          "execution_count": 16,
          "metadata": {},
          "output_type": "execute_result"
        }
      ],
      "source": [
        "rm = (df_nifty['Close'].iloc[-1]-df_nifty['Close'].iloc[0])/df_nifty['Close'].iloc[0]\n",
        "rm"
      ]
    },
    {
      "cell_type": "code",
      "execution_count": null,
      "id": "13218094",
      "metadata": {
        "id": "13218094",
        "outputId": "524b10e8-4bfc-4a9f-f6a7-d6d94be9710b"
      },
      "outputs": [
        {
          "data": {
            "text/plain": [
              "0.055"
            ]
          },
          "execution_count": 17,
          "metadata": {},
          "output_type": "execute_result"
        }
      ],
      "source": [
        "rf=0.055 #fd return of sbi taken as risk free return\n",
        "rf"
      ]
    },
    {
      "cell_type": "code",
      "execution_count": null,
      "id": "78508d9e",
      "metadata": {
        "id": "78508d9e",
        "outputId": "785e2821-913e-4beb-f6ad-48909de0771e"
      },
      "outputs": [
        {
          "data": {
            "text/plain": [
              "0.5740918909816692"
            ]
          },
          "execution_count": 18,
          "metadata": {},
          "output_type": "execute_result"
        }
      ],
      "source": [
        "r_val"
      ]
    },
    {
      "cell_type": "code",
      "execution_count": null,
      "id": "10adaaf8",
      "metadata": {
        "id": "10adaaf8",
        "outputId": "6632c6f5-8a8b-4f06-950b-d351872006f4"
      },
      "outputs": [
        {
          "data": {
            "text/plain": [
              "4.696884219027904e-23"
            ]
          },
          "execution_count": 19,
          "metadata": {},
          "output_type": "execute_result"
        }
      ],
      "source": [
        "p_val"
      ]
    },
    {
      "cell_type": "code",
      "execution_count": null,
      "id": "3d25db7e",
      "metadata": {
        "id": "3d25db7e"
      },
      "outputs": [],
      "source": [
        "smb=0.15"
      ]
    },
    {
      "cell_type": "code",
      "execution_count": null,
      "id": "e85edc9b",
      "metadata": {
        "id": "e85edc9b"
      },
      "outputs": [],
      "source": [
        "hml=0.17"
      ]
    },
    {
      "cell_type": "code",
      "execution_count": null,
      "id": "9a5a9263",
      "metadata": {
        "id": "9a5a9263",
        "outputId": "fe72598e-941a-4876-a007-bd38fdb6a282"
      },
      "outputs": [
        {
          "data": {
            "text/plain": [
              "1.052485036849504"
            ]
          },
          "execution_count": 22,
          "metadata": {},
          "output_type": "execute_result"
        }
      ],
      "source": [
        "\n",
        "expected_return_capm= 1+beta*(rm-rf)\n",
        "expected_return_capm"
      ]
    },
    {
      "cell_type": "code",
      "execution_count": null,
      "id": "a1f3d3c4",
      "metadata": {
        "id": "a1f3d3c4",
        "outputId": "22c520ed-938f-4de5-d2bb-fb0bd3086d55"
      },
      "outputs": [
        {
          "data": {
            "text/html": [
              "<div>\n",
              "<style scoped>\n",
              "    .dataframe tbody tr th:only-of-type {\n",
              "        vertical-align: middle;\n",
              "    }\n",
              "\n",
              "    .dataframe tbody tr th {\n",
              "        vertical-align: top;\n",
              "    }\n",
              "\n",
              "    .dataframe thead th {\n",
              "        text-align: right;\n",
              "    }\n",
              "</style>\n",
              "<table border=\"1\" class=\"dataframe\">\n",
              "  <thead>\n",
              "    <tr style=\"text-align: right;\">\n",
              "      <th></th>\n",
              "      <th>High</th>\n",
              "      <th>Low</th>\n",
              "      <th>Open</th>\n",
              "      <th>Close</th>\n",
              "      <th>Volume</th>\n",
              "      <th>Adj Close</th>\n",
              "    </tr>\n",
              "    <tr>\n",
              "      <th>Date</th>\n",
              "      <th></th>\n",
              "      <th></th>\n",
              "      <th></th>\n",
              "      <th></th>\n",
              "      <th></th>\n",
              "      <th></th>\n",
              "    </tr>\n",
              "  </thead>\n",
              "  <tbody>\n",
              "    <tr>\n",
              "      <th>2022-07-19</th>\n",
              "      <td>1189.5</td>\n",
              "      <td>1161</td>\n",
              "      <td>1161.900024</td>\n",
              "      <td>1186.25</td>\n",
              "      <td>4056414</td>\n",
              "      <td>1186.25</td>\n",
              "    </tr>\n",
              "  </tbody>\n",
              "</table>\n",
              "</div>"
            ],
            "text/plain": [
              "              High   Low         Open    Close   Volume  Adj Close\n",
              "Date                                                              \n",
              "2022-07-19  1189.5  1161  1161.900024  1186.25  4056414    1186.25"
            ]
          },
          "execution_count": 23,
          "metadata": {},
          "output_type": "execute_result"
        }
      ],
      "source": [
        "df_mah=web.DataReader(\"M&M.NS\",\"yahoo\",date,date)\n",
        "df_mah"
      ]
    },
    {
      "cell_type": "code",
      "execution_count": null,
      "id": "c9ddcd3b",
      "metadata": {
        "id": "c9ddcd3b"
      },
      "outputs": [],
      "source": [
        ""
      ]
    },
    {
      "cell_type": "code",
      "execution_count": null,
      "id": "0261b54f",
      "metadata": {
        "id": "0261b54f",
        "outputId": "45dca29c-dab6-416c-d498-019801633f0e"
      },
      "outputs": [
        {
          "data": {
            "text/plain": [
              "1.6195644483991074"
            ]
          },
          "execution_count": 24,
          "metadata": {},
          "output_type": "execute_result"
        }
      ],
      "source": [
        "actual_return=df_mah['Close'].iloc[0]/df_b['Close'].iloc[0]\n",
        "actual_return"
      ]
    },
    {
      "cell_type": "code",
      "execution_count": null,
      "id": "dd01650e",
      "metadata": {
        "id": "dd01650e",
        "outputId": "8b337ddf-c048-493a-a15c-59cc2476adab"
      },
      "outputs": [
        {
          "data": {
            "text/plain": [
              "0.35014315861906264"
            ]
          },
          "execution_count": 25,
          "metadata": {},
          "output_type": "execute_result"
        }
      ],
      "source": [
        "err_capm=(actual_return-expected_return_capm)/actual_return\n",
        "err_capm"
      ]
    },
    {
      "cell_type": "code",
      "execution_count": null,
      "id": "7f452f85",
      "metadata": {
        "id": "7f452f85",
        "outputId": "3adfbb8a-ae25-4133-eb1c-de834f6bd8ef"
      },
      "outputs": [
        {
          "data": {
            "text/plain": [
              "1.139301349447596"
            ]
          },
          "execution_count": 26,
          "metadata": {},
          "output_type": "execute_result"
        }
      ],
      "source": [
        "expected_return_fama=1+beta*(rm-rf)+r_val*smb+p_val*hml+alpha\n",
        "expected_return_fama"
      ]
    },
    {
      "cell_type": "code",
      "execution_count": null,
      "id": "a4e0ef85",
      "metadata": {
        "id": "a4e0ef85",
        "outputId": "52636f12-8a8c-453c-cced-76aabb5c4494"
      },
      "outputs": [
        {
          "data": {
            "text/plain": [
              "-0.2965384300860873"
            ]
          },
          "execution_count": 27,
          "metadata": {},
          "output_type": "execute_result"
        }
      ],
      "source": [
        "err_fama=(expected_return_fama-actual_return)/actual_return\n",
        "err_fama"
      ]
    },
    {
      "cell_type": "code",
      "execution_count": null,
      "id": "6f2be692",
      "metadata": {
        "id": "6f2be692"
      },
      "outputs": [],
      "source": [
        "# It can be seen that return in fama-french Three_Factor model is less than CAPM model."
      ]
    },
    {
      "cell_type": "code",
      "execution_count": null,
      "id": "33ca40e9",
      "metadata": {
        "id": "33ca40e9"
      },
      "outputs": [],
      "source": [
        ""
      ]
    }
  ],
  "metadata": {
    "kernelspec": {
      "display_name": "Python 3 (ipykernel)",
      "language": "python",
      "name": "python3"
    },
    "language_info": {
      "codemirror_mode": {
        "name": "ipython",
        "version": 3
      },
      "file_extension": ".py",
      "mimetype": "text/x-python",
      "name": "python",
      "nbconvert_exporter": "python",
      "pygments_lexer": "ipython3",
      "version": "3.10.4"
    },
    "colab": {
      "name": "210344_Digvijay - Digvijay Sarak-Patil.ipynb",
      "provenance": []
    }
  },
  "nbformat": 4,
  "nbformat_minor": 5
}